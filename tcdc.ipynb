{
 "cells": [
  {
   "cell_type": "code",
   "execution_count": null,
   "metadata": {},
   "outputs": [],
   "source": [
    "import csv\n",
    "import pandas as pd\n",
    "import random\n",
    "from datetime import datetime\n",
    "\n",
    "f = 'C:/Data/20181229_인천시_교통카드데이터/1-1.거래내역/DI_TBTRDD010_20181101.csv'\n",
    "df = pd.read_csv(f, index_col=None, header=0, encoding='utf-8', low_memory=False)\n",
    "\n",
    "with open('IC_ETick.txt', mode='w', newline='') as visum_file:\n",
    "    visum_writer = csv.writer(visum_file, delimiter=';', quoting=csv.QUOTE_NONE)\n",
    "    \n",
    "    visum_writer.writerow(['$VISION'])\n",
    "    visum_writer.writerow(['* VisumInst'])\n",
    "    visum_writer.writerow(['* 22.05.12, 18.27.29'])\n",
    "    visum_writer.writerow(['*'])\n",
    "    visum_writer.writerow(['*'])\n",
    "    visum_writer.writerow(['* Tabelle: Versionsblock'])\n",
    "    visum_writer.writerow(['$VERSION', 'VERSNR', 'FILETYPE', 'LANGUAGE', 'UNIT'])\n",
    "    visum_writer.writerow(['4.00','Att','Eng','KM'])\n",
    "    visum_writer.writerow(['*'])\n",
    "    visum_writer.writerow(['*'])\n",
    "    visum_writer.writerow(['* Table: PuT path legs'])\n",
    "    visum_writer.writerow(['$SingleRowSurveyData:No', 'NumPass', 'SurveyLineName', 'InputStopNo', 'InputStopDepTime', 'InputStopDepDay', 'BoardStopNo', 'AlightStopNo', 'DestStopNo', 'OrigStopNo', 'PreTSysCode'])\n",
    "# 번호\t승객수\t탑승노선\t탑승정류장\t탑승시간\t탑승일자\t하차정류장\t환승정류장\t최종하차정류장\t최초출발정류장\t\n",
    "    visum_writer.writerow(['*'])\n",
    "    visum_writer.writerow(['*'])\n",
    "    \n",
    "    seq_no = 1\n",
    "    no_dict = {}\n",
    "    \n",
    "    for index, row in df.iterrows():\n",
    "        no = no_dict.setdefault(row['카드번호'], seq_no)\n",
    "        if no == seq_no:\n",
    "            seq_no = seq_no + 1\n",
    "        \n",
    "        dt = str(row['승차일시'])\n",
    "        InputStopDepTime = datetime.strptime(dt[8:], '%H%M%S').strftime('%H:%M:%S')\n",
    "        InputStopDepDay = datetime.strptime(dt[:8], '%Y%m%d').strftime('%Y-%m-%d')\n",
    "        \n",
    "        visum_writer.writerow([no, row['이용객수'], row['노선ID'], row['승차정류장ID'], \n",
    "                              InputStopDepTime, InputStopDepDay, row['승차정류장ID'], row['하차정류장ID'], \n",
    "                              row['하차정류장ID'], row['승차정류장ID'], '', ''])"
   ]
  }
 ],
 "metadata": {
  "kernelspec": {
   "display_name": "Python 3",
   "language": "python",
   "name": "python3"
  },
  "language_info": {
   "codemirror_mode": {
    "name": "ipython",
    "version": 3
   },
   "file_extension": ".py",
   "mimetype": "text/x-python",
   "name": "python",
   "nbconvert_exporter": "python",
   "pygments_lexer": "ipython3",
   "version": "3.7.3"
  }
 },
 "nbformat": 4,
 "nbformat_minor": 2
}
